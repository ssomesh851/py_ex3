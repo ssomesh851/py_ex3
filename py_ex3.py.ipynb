{
 "cells": [
  {
   "cell_type": "code",
   "execution_count": 4,
   "metadata": {},
   "outputs": [
    {
     "name": "stdout",
     "output_type": "stream",
     "text": [
      "False\n"
     ]
    }
   ],
   "source": [
    "#wap to check whether a file existed or not?\n",
    "import os.path\n",
    "with open(\"resume\",'w') as f:\n",
    "    print(os.path.isfile('resume.word'))"
   ]
  },
  {
   "cell_type": "code",
   "execution_count": 6,
   "metadata": {},
   "outputs": [
    {
     "name": "stdout",
     "output_type": "stream",
     "text": [
      "64\n"
     ]
    }
   ],
   "source": [
    "#wap a python program to determine if a python shell is executing in 32bit or 64 bit mode on os\n",
    "import struct\n",
    "print(struct.calcsize(\"P\") * 8)"
   ]
  },
  {
   "cell_type": "code",
   "execution_count": 7,
   "metadata": {},
   "outputs": [
    {
     "name": "stdout",
     "output_type": "stream",
     "text": [
      "nt\n",
      "Windows\n",
      "10\n"
     ]
    }
   ],
   "source": [
    "#wap a to get os info,release info\n",
    "import platform\n",
    "import os\n",
    "print(os.name)\n",
    "print(platform.system())\n",
    "print(platform.release())"
   ]
  },
  {
   "cell_type": "code",
   "execution_count": 8,
   "metadata": {},
   "outputs": [
    {
     "name": "stdout",
     "output_type": "stream",
     "text": [
      "['E:\\\\anaconda', 'E:\\\\anaconda\\\\lib\\\\site-packages']\n"
     ]
    }
   ],
   "source": [
    "#wwap to locate site packages\n",
    "import site\n",
    "print(site.getsitepackages())"
   ]
  },
  {
   "cell_type": "code",
   "execution_count": null,
   "metadata": {},
   "outputs": [],
   "source": [
    "from subprocess import call\n",
    "call(['ls','-l'])"
   ]
  },
  {
   "cell_type": "code",
   "execution_count": 14,
   "metadata": {},
   "outputs": [
    {
     "name": "stdout",
     "output_type": "stream",
     "text": [
      "Current File Name is: C:\\Users\\lenovo\\__file__\n"
     ]
    }
   ],
   "source": [
    "#wap to get the path and filename that is currently executing\n",
    "import os\n",
    "print(\"Current File Name is:\",os.path.realpath('__file__'))"
   ]
  },
  {
   "cell_type": "code",
   "execution_count": 15,
   "metadata": {},
   "outputs": [
    {
     "name": "stdout",
     "output_type": "stream",
     "text": [
      "4\n"
     ]
    }
   ],
   "source": [
    "#wap to find out the number of cpus using\n",
    "import multiprocessing\n",
    "print(multiprocessing.cpu_count())"
   ]
  },
  {
   "cell_type": "code",
   "execution_count": 17,
   "metadata": {},
   "outputs": [
    {
     "name": "stdout",
     "output_type": "stream",
     "text": [
      "258.3265\n",
      "258\n"
     ]
    }
   ],
   "source": [
    "#wap to parse a string to float or integer\n",
    "n = \"258.3265\"\n",
    "print(float(n))\n",
    "print(int(float(n)))\n"
   ]
  },
  {
   "cell_type": "code",
   "execution_count": null,
   "metadata": {},
   "outputs": [],
   "source": [
    "#wap to list all files in a directory in python\n",
    "from os import listdir\n",
    "from os.path import isfile, join\n",
    "file_lists = [f for f in listdir(\"C:\\Users\\lenovo\\downloads\") if isfile(join(\"C:\\Users\\lenovo\\downloads\",f))]\n",
    "print(file_lists)"
   ]
  },
  {
   "cell_type": "code",
   "execution_count": 20,
   "metadata": {},
   "outputs": [
    {
     "name": "stdout",
     "output_type": "stream",
     "text": [
      "**********\n",
      "\n"
     ]
    }
   ],
   "source": [
    "#wap to print without line and space\n",
    "for i in range(0,10):\n",
    "    print('*',end=\"\")\n",
    "print(\"\\n\")"
   ]
  },
  {
   "cell_type": "code",
   "execution_count": 26,
   "metadata": {},
   "outputs": [
    {
     "name": "stdout",
     "output_type": "stream",
     "text": [
      "3\n",
      "         39 function calls in 0.000 seconds\n",
      "\n",
      "   Ordered by: standard name\n",
      "\n",
      "   ncalls  tottime  percall  cumtime  percall filename:lineno(function)\n",
      "        1    0.000    0.000    0.000    0.000 <ipython-input-26-70afc10f27c7>:5(sum)\n",
      "        1    0.000    0.000    0.000    0.000 <string>:1(<module>)\n",
      "        3    0.000    0.000    0.000    0.000 iostream.py:195(schedule)\n",
      "        2    0.000    0.000    0.000    0.000 iostream.py:300(_is_master_process)\n",
      "        2    0.000    0.000    0.000    0.000 iostream.py:313(_schedule_flush)\n",
      "        2    0.000    0.000    0.000    0.000 iostream.py:366(write)\n",
      "        3    0.000    0.000    0.000    0.000 iostream.py:93(_event_pipe)\n",
      "        3    0.000    0.000    0.000    0.000 socket.py:333(send)\n",
      "        3    0.000    0.000    0.000    0.000 threading.py:1062(_wait_for_tstate_lock)\n",
      "        3    0.000    0.000    0.000    0.000 threading.py:1104(is_alive)\n",
      "        3    0.000    0.000    0.000    0.000 threading.py:506(is_set)\n",
      "        1    0.000    0.000    0.000    0.000 {built-in method builtins.exec}\n",
      "        2    0.000    0.000    0.000    0.000 {built-in method builtins.isinstance}\n",
      "        1    0.000    0.000    0.000    0.000 {built-in method builtins.print}\n",
      "        2    0.000    0.000    0.000    0.000 {built-in method nt.getpid}\n",
      "        3    0.000    0.000    0.000    0.000 {method 'acquire' of '_thread.lock' objects}\n",
      "        3    0.000    0.000    0.000    0.000 {method 'append' of 'collections.deque' objects}\n",
      "        1    0.000    0.000    0.000    0.000 {method 'disable' of '_lsprof.Profiler' objects}\n",
      "\n",
      "\n"
     ]
    }
   ],
   "source": [
    "#wap to determine profilling of python programms\n",
    "#A profiles is a set of statistics that describe how often and for how long various parts of the program executed.\n",
    "#these statistics can formatted into reports via the pstate module\n",
    "import cProfile\n",
    "def sum():\n",
    "    print(1+2)\n",
    "cProfile.run('sum()')"
   ]
  },
  {
   "cell_type": "code",
   "execution_count": 27,
   "metadata": {},
   "outputs": [
    {
     "name": "stderr",
     "output_type": "stream",
     "text": [
      "abc--efg--xyz\n"
     ]
    }
   ],
   "source": [
    "#wap to print stderr\n",
    "from __future__ import print_function\n",
    "import sys\n",
    "def eprint(*args, **kwargs):\n",
    "    print(*args, file=sys.stderr, **kwargs)\n",
    "eprint(\"abc\",\"efg\",\"xyz\",sep=\"--\")"
   ]
  },
  {
   "cell_type": "code",
   "execution_count": 33,
   "metadata": {},
   "outputs": [
    {
     "name": "stdout",
     "output_type": "stream",
     "text": [
      "*----------------------*\n",
      "environ({'ALLUSERSPROFILE': 'C:\\\\ProgramData', 'APPDATA': 'C:\\\\Users\\\\lenovo\\\\AppData\\\\Roaming', 'COMMONPROGRAMFILES': 'C:\\\\Program Files\\\\Common Files', 'COMMONPROGRAMFILES(X86)': 'C:\\\\Program Files (x86)\\\\Common Files', 'COMMONPROGRAMW6432': 'C:\\\\Program Files\\\\Common Files', 'COMPUTERNAME': 'DESKTOP-J737HM1', 'COMSPEC': 'C:\\\\WINDOWS\\\\system32\\\\cmd.exe', 'DRIVERDATA': 'C:\\\\Windows\\\\System32\\\\Drivers\\\\DriverData', 'HADOOP_HOME': 'C:\\\\winutils.exe', 'HOMEDRIVE': 'C:', 'HOMEPATH': '\\\\Users\\\\lenovo', 'JAVA_HOME': 'C:\\\\Program Files\\\\Java\\\\jdk1.8.0_181', 'LOCALAPPDATA': 'C:\\\\Users\\\\lenovo\\\\AppData\\\\Local', 'LOGONSERVER': '\\\\\\\\DESKTOP-J737HM1', 'NUMBER_OF_PROCESSORS': '4', 'ONEDRIVE': 'C:\\\\Users\\\\lenovo\\\\OneDrive', 'OS': 'Windows_NT', 'PATH': 'E:\\\\anaconda;E:\\\\anaconda\\\\Library\\\\mingw-w64\\\\bin;E:\\\\anaconda\\\\Library\\\\usr\\\\bin;E:\\\\anaconda\\\\Library\\\\bin;E:\\\\anaconda\\\\Scripts;E:\\\\anaconda\\\\Library\\\\bin;C:\\\\Program Files (x86)\\\\Common Files\\\\Oracle\\\\Java\\\\javapath;C:\\\\WINDOWS\\\\system32;C:\\\\WINDOWS;C:\\\\WINDOWS\\\\System32\\\\Wbem;C:\\\\WINDOWS\\\\System32\\\\WindowsPowerShell\\\\v1.0\\\\;C:\\\\WINDOWS\\\\System32\\\\OpenSSH\\\\;C:\\\\spark-2.3.2-bin-hadoop2.6\\\\bin;C:\\\\Program Files\\\\Java\\\\jdk1.8.0_181\\\\bin;C:\\\\Program Files\\\\Java\\\\jre1.8.0_181\\\\bin;C:\\\\Users\\\\lenovo\\\\AppData\\\\Local\\\\Programs\\\\Python\\\\Python36\\\\Scripts\\\\;C:\\\\Users\\\\lenovo\\\\AppData\\\\Local\\\\Programs\\\\Python\\\\Python36\\\\;C:\\\\Users\\\\lenovo\\\\AppData\\\\Local\\\\Microsoft\\\\WindowsApps;C:\\\\Program Files\\\\Java\\\\jdk-10.0.2\\\\bin;C:\\\\Program Files\\\\Java\\\\jre-10.0.2;', 'PATHEXT': '.COM;.EXE;.BAT;.CMD;.VBS;.VBE;.JS;.JSE;.WSF;.WSH;.MSC', 'PROCESSOR_ARCHITECTURE': 'AMD64', 'PROCESSOR_IDENTIFIER': 'Intel64 Family 6 Model 78 Stepping 3, GenuineIntel', 'PROCESSOR_LEVEL': '6', 'PROCESSOR_REVISION': '4e03', 'PROGRAMDATA': 'C:\\\\ProgramData', 'PROGRAMFILES': 'C:\\\\Program Files', 'PROGRAMFILES(X86)': 'C:\\\\Program Files (x86)', 'PROGRAMW6432': 'C:\\\\Program Files', 'PSMODULEPATH': 'C:\\\\Program Files\\\\WindowsPowerShell\\\\Modules;C:\\\\WINDOWS\\\\system32\\\\WindowsPowerShell\\\\v1.0\\\\Modules', 'PUBLIC': 'C:\\\\Users\\\\Public', 'SESSIONNAME': 'Console', 'SPARK_HOME': 'C:\\\\spark-2.3.2-bin-hadoop2.6', 'SYSTEMDRIVE': 'C:', 'SYSTEMROOT': 'C:\\\\WINDOWS', 'TEMP': 'C:\\\\Users\\\\lenovo\\\\AppData\\\\Local\\\\Temp', 'TMP': 'C:\\\\Users\\\\lenovo\\\\AppData\\\\Local\\\\Temp', 'USERDOMAIN': 'DESKTOP-J737HM1', 'USERDOMAIN_ROAMINGPROFILE': 'DESKTOP-J737HM1', 'USERNAME': 'lenovo', 'USERPROFILE': 'C:\\\\Users\\\\lenovo', 'WINDIR': 'C:\\\\WINDOWS', 'CONDA_PREFIX': 'E:\\\\anaconda', 'JPY_INTERRUPT_EVENT': '1668', 'IPY_INTERRUPT_EVENT': '1668', 'JPY_PARENT_PID': '1652', 'TERM': 'xterm-color', 'CLICOLOR': '1', 'PAGER': 'cat', 'GIT_PAGER': 'cat', 'MPLBACKEND': 'module://ipykernel.pylab.backend_inline'})\n",
      "*-----------------------*\n",
      "lenovo\n",
      "*-----------------------*\n",
      "E:\\anaconda;E:\\anaconda\\Library\\mingw-w64\\bin;E:\\anaconda\\Library\\usr\\bin;E:\\anaconda\\Library\\bin;E:\\anaconda\\Scripts;E:\\anaconda\\Library\\bin;C:\\Program Files (x86)\\Common Files\\Oracle\\Java\\javapath;C:\\WINDOWS\\system32;C:\\WINDOWS;C:\\WINDOWS\\System32\\Wbem;C:\\WINDOWS\\System32\\WindowsPowerShell\\v1.0\\;C:\\WINDOWS\\System32\\OpenSSH\\;C:\\spark-2.3.2-bin-hadoop2.6\\bin;C:\\Program Files\\Java\\jdk1.8.0_181\\bin;C:\\Program Files\\Java\\jre1.8.0_181\\bin;C:\\Users\\lenovo\\AppData\\Local\\Programs\\Python\\Python36\\Scripts\\;C:\\Users\\lenovo\\AppData\\Local\\Programs\\Python\\Python36\\;C:\\Users\\lenovo\\AppData\\Local\\Microsoft\\WindowsApps;C:\\Program Files\\Java\\jdk-10.0.2\\bin;C:\\Program Files\\Java\\jre-10.0.2;\n",
      "*------------------------*\n"
     ]
    }
   ],
   "source": [
    "#wap to access environment varaible\n",
    "import os\n",
    "#access all environment variables\n",
    "print('*----------------------*')\n",
    "print(os.environ)\n",
    "print('*-----------------------*')\n",
    "# access a particular environment variable\n",
    "print(os.environ['USERNAME'])\n",
    "print('*-----------------------*')\n",
    "print(os.environ['PATH'])\n",
    "print('*------------------------*')\n",
    "\n"
   ]
  },
  {
   "cell_type": "code",
   "execution_count": 34,
   "metadata": {},
   "outputs": [
    {
     "name": "stdout",
     "output_type": "stream",
     "text": [
      "lenovo\n"
     ]
    }
   ],
   "source": [
    "#wap to get the user_name\n",
    "import getpass\n",
    "print(getpass.getuser())"
   ]
  },
  {
   "cell_type": "code",
   "execution_count": 44,
   "metadata": {},
   "outputs": [
    {
     "name": "stdout",
     "output_type": "stream",
     "text": [
      "192.168.150.1\n"
     ]
    }
   ],
   "source": [
    "#wap to find the local ip addresses using python's stdlib\n",
    "import socket\n",
    "print([l for l in([ip for ip in socket.gethostbyname_ex(socket.gethostname())[2] \n",
    "if not ip.startswith(\"127.\")][:1], [[(s.connect(('8.8.8.8',53)), \n",
    "s.getsockname()[0], s.close()) for s in [socket.socket(socket.AF_INET, \n",
    "socket.SOCK_DGRAM)]][0][1]]) if l][0][0])                                                                                                                   "
   ]
  },
  {
   "cell_type": "code",
   "execution_count": null,
   "metadata": {},
   "outputs": [],
   "source": [
    "#wap to get height and the width of console window\n",
    "def terminal_size():\n",
    "    import fcntl, termios, struct\n",
    "    th, tw, hp, wp = struct.unpack('HHHH',\n",
    "        fcntl.ioctl(0, termios.TIOCGWINSZ,\n",
    "        struct.pack('HHHH', 0, 0, 0, 0)))\n",
    "    return tw, th\n",
    "\n",
    "print('Number of columns and Rows: ',terminal_size())"
   ]
  },
  {
   "cell_type": "code",
   "execution_count": 57,
   "metadata": {},
   "outputs": [
    {
     "name": "stdout",
     "output_type": "stream",
     "text": [
      "\n",
      "Time to sum of 1 to  15 and required time to calculate is : (120, 1553925591.0742626, 1553925591.0742626)\n"
     ]
    }
   ],
   "source": [
    "#wap to program to get execution time\n",
    "import time\n",
    "def sum_of_n_numbers(n):\n",
    "    start_time = time.time()\n",
    "    s = 0\n",
    "    for i in range(1, n+1):\n",
    "        s = s+i\n",
    "    end_time = time.time()\n",
    "    return s,start_time,end_time\n",
    "n = 15\n",
    "print(\"\\nTime to sum of 1 to \", n,\"and required time to calculate is :\",sum_of_n_numbers(n))\n"
   ]
  },
  {
   "cell_type": "code",
   "execution_count": 58,
   "metadata": {},
   "outputs": [
    {
     "name": "stdout",
     "output_type": "stream",
     "text": [
      "enter a number:20\n",
      "210.0\n"
     ]
    }
   ],
   "source": [
    "#wap to sum of n postive inetger\n",
    "n = int(input('enter a number:'))\n",
    "sum = (n*(n+1))/2\n",
    "print(sum)"
   ]
  },
  {
   "cell_type": "code",
   "execution_count": null,
   "metadata": {},
   "outputs": [],
   "source": [
    "#wap to covert height to centimeter's\n",
    "print(\"enter your  height:\")\n",
    "h_feet = int(input('enter your feet:'))\n",
    "h_inch = int(input('enter inches'))\n",
    "h_inch += h_feet * 12\n",
    "centimetres = round(h_inch*2.54, 1)\n",
    "print(\"your height is : %d cm.\"%centimetres)\n",
    "\n"
   ]
  },
  {
   "cell_type": "code",
   "execution_count": null,
   "metadata": {},
   "outputs": [],
   "source": [
    "#wap to calculate hypotenuse of a right angle triangle\n",
    "from math import sqrt\n",
    "print(\"input lengths of shorter triangle sides:\")\n",
    "a = float(input(\"a: \"))\n",
    "b = float(input(\"b: \"))\n",
    "c = sqrt(a**2 + b**2)\n",
    "print(\"The length of the hypnotenuse is\", c)"
   ]
  },
  {
   "cell_type": "code",
   "execution_count": null,
   "metadata": {},
   "outputs": [],
   "source": []
  }
 ],
 "metadata": {
  "kernelspec": {
   "display_name": "Python 3",
   "language": "python",
   "name": "python3"
  },
  "language_info": {
   "codemirror_mode": {
    "name": "ipython",
    "version": 3
   },
   "file_extension": ".py",
   "mimetype": "text/x-python",
   "name": "python",
   "nbconvert_exporter": "python",
   "pygments_lexer": "ipython3",
   "version": "3.6.5"
  }
 },
 "nbformat": 4,
 "nbformat_minor": 2
}
