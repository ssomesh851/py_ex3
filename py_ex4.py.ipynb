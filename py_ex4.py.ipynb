{
 "cells": [
  {
   "cell_type": "code",
   "execution_count": 6,
   "metadata": {},
   "outputs": [
    {
     "name": "stdout",
     "output_type": "stream",
     "text": [
      "enter a feets:6000\n",
      "the distance in inches 72000 is.\n",
      "the distance in yards 2000 is.\n",
      "the distance in miles 1 is.\n"
     ]
    }
   ],
   "source": [
    "#Write a Python program to convert the distance (in feet) to inches, yards, and miles.\n",
    "d_ft = int(input('enter a feets:'))\n",
    "d_inch = d_ft*12\n",
    "d_yard = d_ft/3.0\n",
    "d_miles = d_ft/5280.0\n",
    "print(\"the distance in inches %i is.\"% d_inch)\n",
    "print(\"the distance in yards %i is.\"% d_yard)\n",
    "print(\"the distance in miles %i is.\"% d_miles)"
   ]
  },
  {
   "cell_type": "code",
   "execution_count": 7,
   "metadata": {},
   "outputs": [
    {
     "name": "stdout",
     "output_type": "stream",
     "text": [
      "enter a days:7\n",
      "enter a hours:24\n",
      "enter a minute:60\n",
      "enter a secondds:60\n",
      "The amount of seconds: 694860\n"
     ]
    }
   ],
   "source": [
    "#Write a Python program to convert all units of time into seconds\n",
    "days = int(input('enter a days:'))*3600*24\n",
    "hours = int(input('enter a hours:'))*3600\n",
    "minutes = int(input('enter a minute:'))*60\n",
    "seconds = int(input('enter a secondds:'))\n",
    "\n",
    "Time = days+hours+minutes+seconds\n",
    "print(\"The amount of seconds:\",Time)"
   ]
  },
  {
   "cell_type": "code",
   "execution_count": 17,
   "metadata": {},
   "outputs": [
    {
     "name": "stdout",
     "output_type": "stream",
     "text": [
      "the absolute path is: C:\\Users\\lenovo\\dept1.txt\n"
     ]
    }
   ],
   "source": [
    "#wap to get an absolute path of the file\n",
    "def absolute_file_path(filename):\n",
    "    import  os\n",
    "    return os.path.abspath(filename)\n",
    "print(\"the absolute path is:\",absolute_file_path(\"dept1.txt\"))"
   ]
  },
  {
   "cell_type": "code",
   "execution_count": null,
   "metadata": {},
   "outputs": [],
   "source": [
    "#Write a Python program to get file creation and modification date/times\n",
    "import os,time\n",
    "print(\"Last modified: %s\"%time.ctime(os.path.getmtime(\"http://localhost:8888/edit/Downloads/martin%20luther%20king.txt\")))\n",
    "print(\"Created: %s\"%time.ctime(os.path.getctime(\"http://localhost:8888/edit/Downloads/martin%20luther%20king.txt\")))\n"
   ]
  },
  {
   "cell_type": "code",
   "execution_count": 28,
   "metadata": {},
   "outputs": [
    {
     "name": "stdout",
     "output_type": "stream",
     "text": [
      "Input time in seconds: 60\n",
      "d:h:m:s-> 0:0:1:0\n"
     ]
    }
   ],
   "source": [
    "#Write a Python program to convert seconds to day, hour, minutes and seconds\n",
    "time = float(input(\"Input time in seconds: \"))\n",
    "day = time // (24 * 3600)\n",
    "time = time % (24 * 3600)\n",
    "hour = time // 3600\n",
    "time %= 3600\n",
    "minutes = time // 60\n",
    "time %= 60\n",
    "seconds = time\n",
    "print(\"d:h:m:s-> %d:%d:%d:%d\" % (day, hour, minutes, seconds))"
   ]
  },
  {
   "cell_type": "code",
   "execution_count": 31,
   "metadata": {},
   "outputs": [
    {
     "name": "stdout",
     "output_type": "stream",
     "text": [
      "Input your height in meters: 156\n",
      "Input your weight in kilogram: 60\n",
      "Your body mass index is:  0.0\n"
     ]
    }
   ],
   "source": [
    "#wap to calculate a body and mass index\n",
    "height = float(input(\"Input your height in meters: \"))\n",
    "weight = float(input(\"Input your weight in kilogram: \"))\n",
    "print(\"Your body mass index is: \", round(weight / (height * height), 2))\n"
   ]
  },
  {
   "cell_type": "code",
   "execution_count": 32,
   "metadata": {},
   "outputs": [
    {
     "name": "stdout",
     "output_type": "stream",
     "text": [
      "Input pressure in in kilopascals> 80\n",
      "The pressure in pounds per square inch: 11.60 psi\n",
      "The pressure in millimeter of mercury: 600.05 mmHg\n",
      "Atmosphere pressure: 0.79 atm.\n"
     ]
    }
   ],
   "source": [
    "#Write a Python program to convert pressure in kilopascals to pounds per square inch,a millimeter of mercury (mmHg) and atmosphere pressure.\n",
    "kpa = float(input(\"Input pressure in in kilopascals> \"))\n",
    "psi = kpa / 6.89475729\n",
    "mmhg = kpa * 760 / 101.325\n",
    "atm = kpa / 101.325\n",
    "print(\"The pressure in pounds per square inch: %.2f psi\"  % (psi))\n",
    "print(\"The pressure in millimeter of mercury: %.2f mmHg\" % (mmhg))\n",
    "print(\"Atmosphere pressure: %.2f atm.\" % (atm))"
   ]
  },
  {
   "cell_type": "code",
   "execution_count": 33,
   "metadata": {},
   "outputs": [
    {
     "name": "stdout",
     "output_type": "stream",
     "text": [
      "Input a four digit numbers: 2000\n",
      "The sum of digits in the number is 2\n"
     ]
    }
   ],
   "source": [
    "#sum of the integers of digit\n",
    "num = int(input(\"Input a four digit numbers: \"))\n",
    "x  = num //1000\n",
    "x1 = (num - x*1000)//100\n",
    "x2 = (num - x*1000 - x1*100)//10\n",
    "x3 = num - x*1000 - x1*100 - x2*10\n",
    "print(\"The sum of digits in the number is\", x+x1+x2+x3)"
   ]
  },
  {
   "cell_type": "code",
   "execution_count": 39,
   "metadata": {},
   "outputs": [
    {
     "data": {
      "text/plain": [
       "[0, 1, 2]"
      ]
     },
     "execution_count": 39,
     "metadata": {},
     "output_type": "execute_result"
    }
   ],
   "source": [
    "#Write a Python program to sort three integers without using conditional statements and loops.\n",
    "l=[2,1,0]\n",
    "l.reverse()\n",
    "l\n"
   ]
  },
  {
   "cell_type": "code",
   "execution_count": 43,
   "metadata": {},
   "outputs": [
    {
     "name": "stdout",
     "output_type": "stream",
     "text": [
      "enter a number:20\n",
      "enter a number:3\n",
      "enter a number:2\n",
      "the order of the element is 2,3,20.\n"
     ]
    }
   ],
   "source": [
    "#Write a Python program to sort three integers without using conditional statements and loops.\n",
    "x = int(input('enter a number:'))\n",
    "y = int(input('enter a number:'))\n",
    "z = int(input('enter a number:'))\n",
    "\n",
    "a1 = min(x,y,z)\n",
    "a3 = max(x,y,z)\n",
    "a2 = (x+y+z)-a1-a3\n",
    "print(\"the order of the element is %d,%d,%d.\"%(a1,a2,a3))\n",
    "\n"
   ]
  },
  {
   "cell_type": "code",
   "execution_count": 53,
   "metadata": {},
   "outputs": [
    {
     "name": "stdout",
     "output_type": "stream",
     "text": [
      "\n"
     ]
    }
   ],
   "source": [
    "#wap to sort files by date\n",
    "import glob\n",
    "import os\n",
    "files = glob.glob(\"*.txt\")\n",
    "files.sort(key=os.path.getmtime)\n",
    "print(\"\\n\".join(files))"
   ]
  },
  {
   "cell_type": "code",
   "execution_count": null,
   "metadata": {},
   "outputs": [],
   "source": []
  }
 ],
 "metadata": {
  "kernelspec": {
   "display_name": "Python 3",
   "language": "python",
   "name": "python3"
  },
  "language_info": {
   "codemirror_mode": {
    "name": "ipython",
    "version": 3
   },
   "file_extension": ".py",
   "mimetype": "text/x-python",
   "name": "python",
   "nbconvert_exporter": "python",
   "pygments_lexer": "ipython3",
   "version": "3.6.5"
  }
 },
 "nbformat": 4,
 "nbformat_minor": 2
}
